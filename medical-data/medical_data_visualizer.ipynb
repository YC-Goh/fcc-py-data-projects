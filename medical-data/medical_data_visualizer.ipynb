{
 "cells": [
  {
   "cell_type": "code",
   "execution_count": null,
   "metadata": {},
   "outputs": [],
   "source": [
    "import pandas as pd\n",
    "import seaborn as sns\n",
    "import matplotlib.pyplot as plt\n",
    "import numpy as np"
   ]
  },
  {
   "cell_type": "code",
   "execution_count": null,
   "metadata": {},
   "outputs": [],
   "source": [
    "# Import data\n",
    "df = pd.read_csv('medical_examination.csv')\n",
    "df.head()"
   ]
  },
  {
   "cell_type": "code",
   "execution_count": null,
   "metadata": {},
   "outputs": [],
   "source": [
    "df.describe()"
   ]
  },
  {
   "cell_type": "code",
   "execution_count": null,
   "metadata": {},
   "outputs": [],
   "source": [
    "# Add 'overweight' column\n",
    "df['bmi'] = df['weight'] / ((df['height'] / 100) ** 2)\n",
    "df['overweight'] = (df['bmi'] > 25) * 1\n",
    "df.head()"
   ]
  },
  {
   "cell_type": "code",
   "execution_count": null,
   "metadata": {},
   "outputs": [],
   "source": [
    "# Normalize data by making 0 always good and 1 always bad. If the value of 'cholesterol' or 'gluc' is 1, make the value 0. If the value is more than 1, make the value 1.\n",
    "df['cholesterol'] = (df['cholesterol'] > 1) * 1\n",
    "df['gluc'] = (df['gluc'] > 1) * 1\n",
    "df.head()"
   ]
  },
  {
   "cell_type": "code",
   "execution_count": null,
   "metadata": {},
   "outputs": [],
   "source": [
    "# Drop incorrect data\n",
    "mask_diastolic_wrong = df['ap_lo'] <= df['ap_hi']\n",
    "mask_height_high = df['height'] <= df['height'].quantile(.975)\n",
    "mask_height_low = df['height'] >= df['height'].quantile(.025)\n",
    "mask_weight_high = df['weight'] <= df['weight'].quantile(.975)\n",
    "mask_weight_low = df['weight'] >= df['weight'].quantile(.025)\n",
    "df = df[mask_diastolic_wrong&mask_height_high&mask_height_low&mask_weight_high&mask_weight_low]\n",
    "df.head()"
   ]
  },
  {
   "cell_type": "code",
   "execution_count": null,
   "metadata": {},
   "outputs": [],
   "source": [
    "# Draw Categorical Plot\n",
    "def draw_cat_plot():\n",
    "    # Create DataFrame for cat plot using `pd.melt` using just the values from 'cholesterol', 'gluc', 'smoke', 'alco', 'active', and 'overweight'.\n",
    "    df_cat = pd.melt(df, id_vars=['id', 'cardio'], value_vars=['cholesterol', 'gluc', 'smoke', 'alco', 'active', 'overweight'])\n",
    "    \n",
    "    # Group and reformat the data to split it by 'cardio'. Show the counts of each feature. You will have to rename one of the columns for the catplot to work correctly.\n",
    "    df_cat = df_cat.groupby(by=['cardio', 'variable', 'value']).agg('count')\n",
    "    df_cat.columns = ['total']\n",
    "    df_cat = df_cat.reset_index()\n",
    "    \n",
    "    # Draw the catplot with 'sns.catplot()'\n",
    "    sns.set_theme()\n",
    "    g = sns.catplot(df_cat.reset_index(), x='variable', y='total', hue='value', col='cardio', kind='bar', sharey=True)\n",
    "    \n",
    "    # Get the figure for the output\n",
    "    fig = g.figure\n",
    "    \n",
    "    # Do not modify the next two lines\n",
    "    return fig\n",
    "\n",
    "draw_cat_plot()"
   ]
  },
  {
   "cell_type": "code",
   "execution_count": null,
   "metadata": {},
   "outputs": [],
   "source": [
    "# Draw Heat Map\n",
    "def draw_heat_map():\n",
    "    # Clean the data\n",
    "    df_heat = df.drop(columns=['bmi'])\n",
    "\n",
    "    # Calculate the correlation matrix\n",
    "    corr = df_heat.corr()\n",
    "\n",
    "    # Generate a mask for the upper triangle\n",
    "    mask = np.array([ [ r <= c for c in range(corr.shape[1]) ] for r in range(corr.shape[0]) ])\n",
    "    \n",
    "    # Set up the matplotlib figure\n",
    "    fig, ax = plt.subplots(1, 1)\n",
    "\n",
    "    # Draw the heatmap with 'sns.heatmap()'\n",
    "    sns.set_theme()\n",
    "    sns.heatmap(data=corr, annot=True, fmt='.1f', annot_kws={'fontsize':'x-small'}, square=True, mask=mask)\n",
    "    \n",
    "    # Do not modify the next two lines\n",
    "    return fig\n",
    "\n",
    "draw_heat_map()"
   ]
  }
 ],
 "metadata": {
  "kernelspec": {
   "display_name": "base-python",
   "language": "python",
   "name": "python3"
  },
  "language_info": {
   "codemirror_mode": {
    "name": "ipython",
    "version": 3
   },
   "file_extension": ".py",
   "mimetype": "text/x-python",
   "name": "python",
   "nbconvert_exporter": "python",
   "pygments_lexer": "ipython3",
   "version": "3.10.8"
  },
  "orig_nbformat": 4,
  "vscode": {
   "interpreter": {
    "hash": "ccd54c84a695b4de1c1d13f95e88e74b811b520ba074a2c1e25c9442528b19ea"
   }
  }
 },
 "nbformat": 4,
 "nbformat_minor": 2
}
